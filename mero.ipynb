{
 "cells": [
  {
   "cell_type": "code",
   "execution_count": 2,
   "metadata": {},
   "outputs": [],
   "source": [
    "import os\n",
    "import math"
   ]
  },
  {
   "cell_type": "code",
   "execution_count": 11,
   "metadata": {},
   "outputs": [
    {
     "name": "stdout",
     "output_type": "stream",
     "text": [
      "please enter number9\n",
      "please enter another number9\n",
      "18\n"
     ]
    }
   ],
   "source": [
    "class Meme(object):\n",
    "    \"\"\"\n",
    "    document\n",
    "    x=(int)\n",
    "    y=(int)\n",
    "    \n",
    "    \n",
    "    \n",
    "    \"\"\"\n",
    "    x=input('please enter number' )\n",
    "    y=input('please enter another number' )\n",
    "    \n",
    "    def Sum (self,s):\n",
    "        \"\"\"\n",
    "      sum takes 2 values (x,y)\n",
    "      Return s which is sum of x&y\n",
    "      and print the result\n",
    "      \n",
    "        \n",
    "        \"\"\"\n",
    "    s =int(x)+int(y)\n",
    "    print(s)"
   ]
  },
  {
   "cell_type": "code",
   "execution_count": null,
   "metadata": {},
   "outputs": [],
   "source": []
  }
 ],
 "metadata": {
  "kernelspec": {
   "display_name": "Python 3",
   "language": "python",
   "name": "python3"
  },
  "language_info": {
   "codemirror_mode": {
    "name": "ipython",
    "version": 3
   },
   "file_extension": ".py",
   "mimetype": "text/x-python",
   "name": "python",
   "nbconvert_exporter": "python",
   "pygments_lexer": "ipython3",
   "version": "3.7.1"
  }
 },
 "nbformat": 4,
 "nbformat_minor": 2
}
